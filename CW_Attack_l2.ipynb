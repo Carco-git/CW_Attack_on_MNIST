{
 "cells": [
  {
   "cell_type": "code",
   "execution_count": 1,
   "metadata": {
    "ExecuteTime": {
     "end_time": "2020-08-16T10:51:58.174194Z",
     "start_time": "2020-08-16T10:51:56.774196Z"
    }
   },
   "outputs": [],
   "source": [
    "import torch\n",
    "import torch.nn.functional as F\n",
    "import torch.nn as nn\n",
    "import torch.optim as optim\n",
    "import torchvision\n",
    "import matplotlib.pyplot as plt\n",
    "from torchvision import datasets, transforms\n",
    "from torch.autograd import Variable\n",
    "import MNIST_Model\n",
    "import numpy as np\n"
   ]
  },
  {
   "cell_type": "markdown",
   "metadata": {},
   "source": [
    "## Model & dataset"
   ]
  },
  {
   "cell_type": "code",
   "execution_count": 2,
   "metadata": {
    "ExecuteTime": {
     "end_time": "2020-08-16T10:52:00.651195Z",
     "start_time": "2020-08-16T10:51:58.354195Z"
    }
   },
   "outputs": [],
   "source": [
    "target_model=MNIST_Model.MNIST_Model().cuda()\n",
    "target_model.load_state_dict(torch.load(\"mnist.pt\"))\n",
    "target_model.eval()\n",
    "test_data=datasets.MNIST(root='./mnist/', train=False, download=False,transform=transforms.ToTensor())\n",
    "test_loader = torch.utils.data.DataLoader(test_data,batch_size=1)"
   ]
  },
  {
   "cell_type": "markdown",
   "metadata": {},
   "source": [
    "## Inital Input data"
   ]
  },
  {
   "cell_type": "code",
   "execution_count": 194,
   "metadata": {
    "ExecuteTime": {
     "end_time": "2020-08-16T14:54:15.075320Z",
     "start_time": "2020-08-16T14:54:14.889375Z"
    }
   },
   "outputs": [
    {
     "data": {
      "image/png": "[encoded data removed]",
      "text/plain": [
       "<Figure size 432x288 with 1 Axes>"
      ]
     },
     "metadata": {
      "needs_background": "light"
     },
     "output_type": "display_data"
    },
    {
     "name": "stdout",
     "output_type": "stream",
     "text": [
      "The pred result is  4\n"
     ]
    }
   ],
   "source": [
    "target_model.eval()\n",
    "test_img,test_label=test_data[8222]\n",
    "img = transforms.ToPILImage()(test_img).convert('RGB')\n",
    "plt.imshow(img)\n",
    "plt.show()\n",
    "inputimg=Variable(torch.unsqueeze(test_img, 0)).cuda()\n",
    "output = target_model(inputimg)\n",
    "print(\"The pred result is \",output.argmax(1, keepdim=True).item())"
   ]
  },
  {
   "cell_type": "markdown",
   "metadata": {},
   "source": [
    "## CK Attack based on l2 attack"
   ]
  },
  {
   "cell_type": "code",
   "execution_count": 275,
   "metadata": {
    "ExecuteTime": {
     "end_time": "2020-08-16T15:48:27.134776Z",
     "start_time": "2020-08-16T15:48:27.093829Z"
    }
   },
   "outputs": [],
   "source": [
    "def loss1_func(w,x,d,c):\n",
    "    return torch.dist(x,(torch.tanh(w)*d+c),p=2)\n",
    "\n",
    "def f(output,tlab,target,k=0):\n",
    "    #f函数选用作者觉得最好的f6 f6(x)=max((max(Z(x')i)-Z(x')t),-k)\n",
    "    real= torch.max(output*tlab)\n",
    "    second=torch.max((1-tlab)*output)\n",
    "    #如果指定了对象，则让这个更接近，否则选择第二个较大的\n",
    "    if(target):\n",
    "        return torch.max(second - real, torch.Tensor([-k]).cuda())\n",
    "    else:\n",
    "        return torch.max(real - second, torch.Tensor([-k]).cuda())\n",
    "\n",
    "def cwattack_l2(img,model,right_label,iteration=1000,lr=0.001,target=False,target_label=0):\n",
    "    shape=(1,3,28,28)\n",
    "    binary_number=9                         #二分搜索\n",
    "    maxc=1e10                               #从0.01-100去找c\n",
    "    minc=0\n",
    "    c=1e-3                                   #from c = 0:01 to c = 100 on the MNIST dataset.\n",
    "    min_loss=1000000                         #找到最小的loss，即为方程的解\n",
    "    min_loss_img=img                         #扰动后的图片\n",
    "    k=0                                      #f函数使用，论文默认为0\n",
    "    b_min = 0                                #盒约束，论文中使用了0-1 代码中-0.5 0.5\n",
    "    b_max = 1\n",
    "    b_mul=(b_max-b_min)/2.0\n",
    "    b_plus=(b_min+b_max)/2.0\n",
    "    tlab=Variable(torch.from_numpy(np.eye(10)[target_label]).cuda().float())\n",
    "    for binary_index in range(binary_number):\n",
    "        print(\"------------Start {} search, current c is {}------------\".format(binary_index,c))\n",
    "        \n",
    "        #将img转换为w，w=arctanh(2x-1)，作为原始图片\n",
    "        w = Variable(torch.from_numpy(np.arctanh((img.numpy()-b_plus)/b_mul*0.99999)).float()).cuda()\n",
    "        \n",
    "        w_pert=Variable(torch.zeros_like(w).cuda().float())\n",
    "        w_pert.requires_grad = True\n",
    "        #最初图像x\n",
    "        x= Variable(img).cuda()\n",
    "        optimizer = optim.Adam([w_pert], lr=lr) #论文p3选用Adam  \n",
    "        isSuccessfulAttack=False\n",
    "        \n",
    "        for iteration_index in range(1,iteration+1):\n",
    "            optimizer.zero_grad()\n",
    "            \n",
    "            # w加入扰动w_pert之后的新图像\n",
    "            img_new=torch.tanh(w_pert+w)*b_mul+b_plus  #0.5*tanh(w+pert)+0.5\n",
    "            loss_1=loss1_func(w,img_new,b_mul,b_plus)  #\\\\ deta\\\\  p=2\n",
    "            model.eval()\n",
    "            output=model(img_new)                      # Z(x)\n",
    "            loss_2=c*f(output,tlab,target)             # c*f(x+deta) , x+deta=img_new, \n",
    "            loss=loss_1+loss_2                         # Minimize loss=loss1+loss2\n",
    "            loss.backward(retain_graph=True)\n",
    "            optimizer.step()\n",
    "            if iteration_index%200==0:\n",
    "                 print('Iters: [{}/{}]\\tLoss: {},Loss1(L2 distance):{}, Loss2:{}'\n",
    "                       .format(iteration_index,iteration,loss.item(),loss_1.item(),loss_2.item()))\n",
    "                    \n",
    "            pred_result=output.argmax(1, keepdim=True).item()\n",
    "            #指定目标模式下,此处考虑l2距离最小,即找到最小的loss1\n",
    "            if(target):\n",
    "                if(min_loss>loss_1 and pred_result==target_label):\n",
    "                    flag=False\n",
    "                    for i in range(20):\n",
    "                        output=model(img_new)\n",
    "                        pred_result=output.argmax(1, keepdim=True).item()\n",
    "                        if(pred_result!=target_label):\n",
    "                            flag=True  #原模型中存在dropout，此处判断连续成功攻击20次，则视为有效\n",
    "                            break\n",
    "                    if(flag):\n",
    "                        continue\n",
    "                    min_loss=loss_1\n",
    "                    min_loss_img=img_new\n",
    "                    print('success when loss: {}, pred: {}'.format(min_loss,pred_result))\n",
    "                    isSuccessfulAttack=True\n",
    "             #非目标模式，找到最接近的一个,连续20次不预测成功\n",
    "            else:\n",
    "                if(min_loss>loss_1 and pred_result!=right_label):\n",
    "                    flag=False\n",
    "                    for i in range(50):\n",
    "                        output=model(img_new)\n",
    "                        pred_result=output.argmax(1, keepdim=True).item()\n",
    "                        if(pred_result==right_label):\n",
    "                            flag=True  #原模型中存在dropout，此处判断连续成功攻击50次，则视为有效\n",
    "                            break\n",
    "                    if(flag):\n",
    "                        continue\n",
    "                    min_loss=loss_1\n",
    "                    min_loss_img=img_new\n",
    "                    print('success when loss: {}, pred: {}'.format(min_loss,pred_result))\n",
    "                    isSuccessfulAttack=True\n",
    "        if(isSuccessfulAttack):\n",
    "            maxc=min(maxc,c)\n",
    "            if maxc<1e9: \n",
    "                c=(minc+maxc)/2\n",
    "        #攻击失败，尝试放大c\n",
    "        else:\n",
    "            minc=max(minc,c)\n",
    "            if(maxc<1e9):\n",
    "                c=(maxc+minc)/2\n",
    "            else:\n",
    "                c=c*10\n",
    "    return min_loss_img\n",
    "                    "
   ]
  },
  {
   "cell_type": "markdown",
   "metadata": {},
   "source": [
    "## Target Attack"
   ]
  },
  {
   "cell_type": "code",
   "execution_count": 261,
   "metadata": {
    "ExecuteTime": {
     "end_time": "2020-08-16T15:37:36.713437Z",
     "start_time": "2020-08-16T15:34:48.306437Z"
    }
   },
   "outputs": [
    {
     "name": "stdout",
     "output_type": "stream",
     "text": [
      "Correct Label is  4\n",
      "------------Start 0 search, current c is 0.001------------\n",
      "Iters: [200/1000]\tLoss: 0.12186822295188904,Loss1(L2 distance):0.0012894130777567625, Loss2:0.1205788105726242\n",
      "Iters: [400/1000]\tLoss: 0.08808138966560364,Loss1(L2 distance):0.0013003161875531077, Loss2:0.0867810770869255\n",
      "Iters: [600/1000]\tLoss: 0.10146259516477585,Loss1(L2 distance):0.0015106415376067162, Loss2:0.09995195269584656\n",
      "Iters: [800/1000]\tLoss: 0.09266598522663116,Loss1(L2 distance):0.001421840745024383, Loss2:0.09124414622783661\n",
      "Iters: [1000/1000]\tLoss: 0.0763501301407814,Loss1(L2 distance):0.0012614545412361622, Loss2:0.07508867233991623\n",
      "------------Start 1 search, current c is 0.01------------\n",
      "Iters: [200/1000]\tLoss: 1.282706379890442,Loss1(L2 distance):0.0014654701808467507, Loss2:1.2812409400939941\n",
      "Iters: [400/1000]\tLoss: 1.2063835859298706,Loss1(L2 distance):0.0013876252342015505, Loss2:1.2049959897994995\n",
      "Iters: [600/1000]\tLoss: 0.8543075919151306,Loss1(L2 distance):0.001146885217167437, Loss2:0.8531606793403625\n",
      "Iters: [800/1000]\tLoss: 1.289191722869873,Loss1(L2 distance):0.0015526148490607738, Loss2:1.2876391410827637\n",
      "Iters: [1000/1000]\tLoss: 0.9533873796463013,Loss1(L2 distance):0.0015047171618789434, Loss2:0.9518826603889465\n",
      "------------Start 2 search, current c is 0.1------------\n",
      "Iters: [200/1000]\tLoss: 4.084358215332031,Loss1(L2 distance):2.9815564155578613, Loss2:1.1028015613555908\n",
      "Iters: [400/1000]\tLoss: 2.3917226791381836,Loss1(L2 distance):2.328948736190796, Loss2:0.06277406215667725\n",
      "Iters: [600/1000]\tLoss: 2.2640843391418457,Loss1(L2 distance):2.0509302616119385, Loss2:0.21315398812294006\n",
      "Iters: [800/1000]\tLoss: 2.0621509552001953,Loss1(L2 distance):1.9187158346176147, Loss2:0.14343523979187012\n",
      "Iters: [1000/1000]\tLoss: 1.963204026222229,Loss1(L2 distance):1.9066632986068726, Loss2:0.05654071643948555\n",
      "------------Start 3 search, current c is 1.0------------\n",
      "Iters: [200/1000]\tLoss: 11.893723487854004,Loss1(L2 distance):3.8116025924682617, Loss2:8.082120895385742\n",
      "Iters: [400/1000]\tLoss: 3.9765400886535645,Loss1(L2 distance):3.9765400886535645, Loss2:0.0\n",
      "Iters: [600/1000]\tLoss: 3.8725509643554688,Loss1(L2 distance):3.5193307399749756, Loss2:0.3532203435897827\n",
      "Iters: [800/1000]\tLoss: 3.079350471496582,Loss1(L2 distance):3.079350471496582, Loss2:0.0\n",
      "Iters: [1000/1000]\tLoss: 2.7648158073425293,Loss1(L2 distance):2.7648158073425293, Loss2:0.0\n",
      "------------Start 4 search, current c is 10.0------------\n",
      "Iters: [200/1000]\tLoss: 82.68243408203125,Loss1(L2 distance):4.124565124511719, Loss2:78.55786895751953\n",
      "success when loss: 4.472578525543213, pred: 3\n",
      "Iters: [400/1000]\tLoss: 4.488541603088379,Loss1(L2 distance):4.488541603088379, Loss2:0.0\n",
      "success when loss: 4.471506595611572, pred: 3\n",
      "success when loss: 4.471023082733154, pred: 3\n",
      "success when loss: 4.470539093017578, pred: 3\n",
      "success when loss: 4.469569206237793, pred: 3\n",
      "success when loss: 4.469083309173584, pred: 3\n",
      "success when loss: 4.468597412109375, pred: 3\n",
      "success when loss: 4.467623233795166, pred: 3\n",
      "success when loss: 4.467134952545166, pred: 3\n",
      "success when loss: 4.46615743637085, pred: 3\n",
      "success when loss: 4.465667724609375, pred: 3\n",
      "success when loss: 4.4651780128479, pred: 3\n",
      "success when loss: 4.463703632354736, pred: 3\n",
      "success when loss: 4.463243007659912, pred: 3\n",
      "success when loss: 4.463226795196533, pred: 3\n",
      "success when loss: 4.4631667137146, pred: 3\n",
      "success when loss: 4.463066101074219, pred: 3\n",
      "success when loss: 4.462928771972656, pred: 3\n",
      "success when loss: 4.462756633758545, pred: 3\n",
      "success when loss: 4.46255350112915, pred: 3\n",
      "success when loss: 4.462321758270264, pred: 3\n",
      "success when loss: 4.461155414581299, pred: 3\n",
      "success when loss: 4.460455894470215, pred: 3\n",
      "success when loss: 4.4596967697143555, pred: 3\n",
      "success when loss: 4.4592976570129395, pred: 3\n",
      "success when loss: 4.458037376403809, pred: 3\n",
      "success when loss: 4.45759916305542, pred: 3\n",
      "success when loss: 4.456699848175049, pred: 3\n",
      "success when loss: 4.456240653991699, pred: 3\n",
      "success when loss: 4.455775260925293, pred: 3\n",
      "success when loss: 4.4553046226501465, pred: 3\n",
      "success when loss: 4.454829216003418, pred: 3\n",
      "success when loss: 4.454349040985107, pred: 3\n",
      "success when loss: 4.453377723693848, pred: 3\n",
      "success when loss: 4.452392101287842, pred: 3\n",
      "success when loss: 4.451895236968994, pred: 3\n",
      "success when loss: 4.451395034790039, pred: 3\n",
      "success when loss: 4.4503889083862305, pred: 3\n",
      "success when loss: 4.448863506317139, pred: 3\n",
      "success when loss: 4.447838306427002, pred: 3\n",
      "success when loss: 4.447323322296143, pred: 3\n",
      "success when loss: 4.446806907653809, pred: 3\n",
      "success when loss: 4.446289539337158, pred: 3\n",
      "success when loss: 4.445770740509033, pred: 3\n",
      "success when loss: 4.444729804992676, pred: 3\n",
      "success when loss: 4.444207668304443, pred: 3\n",
      "success when loss: 4.4436845779418945, pred: 3\n",
      "success when loss: 4.443160533905029, pred: 3\n",
      "success when loss: 4.442636013031006, pred: 3\n",
      "success when loss: 4.442110061645508, pred: 3\n",
      "success when loss: 4.441056251525879, pred: 3\n",
      "success when loss: 4.440528392791748, pred: 3\n",
      "success when loss: 4.439999580383301, pred: 3\n",
      "success when loss: 4.439469814300537, pred: 3\n",
      "success when loss: 4.438408374786377, pred: 3\n",
      "success when loss: 4.437344074249268, pred: 3\n",
      "success when loss: 4.4368109703063965, pred: 3\n",
      "success when loss: 4.436277389526367, pred: 3\n",
      "success when loss: 4.4357428550720215, pred: 3\n",
      "success when loss: 4.435207843780518, pred: 3\n",
      "success when loss: 4.4330620765686035, pred: 3\n",
      "success when loss: 4.431985378265381, pred: 3\n",
      "success when loss: 4.430366516113281, pred: 3\n",
      "success when loss: 4.429825305938721, pred: 3\n",
      "success when loss: 4.42928409576416, pred: 3\n",
      "success when loss: 4.428741931915283, pred: 3\n",
      "success when loss: 4.428199291229248, pred: 3\n",
      "success when loss: 4.427656173706055, pred: 3\n",
      "success when loss: 4.426568031311035, pred: 3\n",
      "success when loss: 4.426023006439209, pred: 3\n",
      "success when loss: 4.424931526184082, pred: 3\n",
      "success when loss: 4.424385070800781, pred: 3\n",
      "success when loss: 4.423290252685547, pred: 3\n",
      "success when loss: 4.4227423667907715, pred: 3\n",
      "success when loss: 4.42219352722168, pred: 3\n",
      "success when loss: 4.42164421081543, pred: 3\n",
      "success when loss: 4.4210944175720215, pred: 3\n",
      "success when loss: 4.420543670654297, pred: 3\n",
      "success when loss: 4.419441223144531, pred: 3\n",
      "success when loss: 4.418336391448975, pred: 3\n",
      "success when loss: 4.417783260345459, pred: 3\n",
      "success when loss: 4.4161200523376465, pred: 3\n",
      "success when loss: 4.41556453704834, pred: 3\n",
      "success when loss: 4.415008544921875, pred: 3\n",
      "success when loss: 4.414452075958252, pred: 3\n",
      "success when loss: 4.413337230682373, pred: 3\n",
      "success when loss: 4.412778854370117, pred: 3\n",
      "success when loss: 4.412220478057861, pred: 3\n",
      "success when loss: 4.411661148071289, pred: 3\n",
      "success when loss: 4.409979343414307, pred: 3\n",
      "success when loss: 4.40885591506958, pred: 3\n",
      "success when loss: 4.4082932472229, pred: 3\n",
      "success when loss: 4.407166481018066, pred: 3\n",
      "success when loss: 4.406601905822754, pred: 3\n",
      "success when loss: 4.404905796051025, pred: 3\n",
      "success when loss: 4.40433931350708, pred: 3\n",
      "success when loss: 4.403771877288818, pred: 3\n",
      "success when loss: 4.403204441070557, pred: 3\n",
      "success when loss: 4.4026360511779785, pred: 3\n",
      "success when loss: 4.402067184448242, pred: 3\n",
      "success when loss: 4.401497840881348, pred: 3\n",
      "success when loss: 4.400928020477295, pred: 3\n",
      "success when loss: 4.400357723236084, pred: 3\n",
      "success when loss: 4.399786949157715, pred: 3\n",
      "success when loss: 4.399215221405029, pred: 3\n",
      "success when loss: 4.3986430168151855, pred: 3\n",
      "success when loss: 4.397497177124023, pred: 3\n",
      "success when loss: 4.396923542022705, pred: 3\n",
      "success when loss: 4.39634895324707, pred: 3\n",
      "success when loss: 4.395198822021484, pred: 3\n",
      "success when loss: 4.394622802734375, pred: 3\n",
      "success when loss: 4.394046306610107, pred: 3\n",
      "success when loss: 4.393468856811523, pred: 3\n",
      "success when loss: 4.3928914070129395, pred: 3\n",
      "success when loss: 4.392313003540039, pred: 3\n",
      "success when loss: 4.391154766082764, pred: 3\n",
      "success when loss: 4.390574932098389, pred: 3\n",
      "success when loss: 4.3899946212768555, pred: 3\n",
      "Iters: [600/1000]\tLoss: 4.389413356781006,Loss1(L2 distance):4.389413356781006, Loss2:0.0\n",
      "success when loss: 4.385915756225586, pred: 3\n",
      "success when loss: 4.3853302001953125, pred: 3\n",
      "success when loss: 4.384745121002197, pred: 3\n"
     ]
    },
    {
     "name": "stdout",
     "output_type": "stream",
     "text": [
      "success when loss: 4.381809234619141, pred: 3\n",
      "success when loss: 4.38122034072876, pred: 3\n",
      "success when loss: 4.380630970001221, pred: 3\n",
      "success when loss: 4.380041122436523, pred: 3\n",
      "success when loss: 4.378859519958496, pred: 3\n",
      "success when loss: 4.377675533294678, pred: 3\n",
      "success when loss: 4.377082824707031, pred: 3\n",
      "success when loss: 4.376489639282227, pred: 3\n",
      "success when loss: 4.374110698699951, pred: 3\n",
      "success when loss: 4.372917652130127, pred: 3\n",
      "success when loss: 4.372320652008057, pred: 3\n",
      "success when loss: 4.3699259757995605, pred: 3\n",
      "success when loss: 4.369325637817383, pred: 3\n",
      "success when loss: 4.368724822998047, pred: 3\n",
      "success when loss: 4.368124008178711, pred: 3\n",
      "success when loss: 4.367522239685059, pred: 3\n",
      "success when loss: 4.366919994354248, pred: 3\n",
      "success when loss: 4.366316795349121, pred: 3\n",
      "success when loss: 4.365713596343994, pred: 3\n",
      "success when loss: 4.365109920501709, pred: 3\n",
      "success when loss: 4.364505290985107, pred: 3\n",
      "success when loss: 4.363900184631348, pred: 3\n",
      "success when loss: 4.36329460144043, pred: 3\n",
      "success when loss: 4.362688064575195, pred: 3\n",
      "success when loss: 4.362081527709961, pred: 3\n",
      "success when loss: 4.361426830291748, pred: 3\n",
      "success when loss: 4.3610005378723145, pred: 3\n",
      "success when loss: 4.360775947570801, pred: 3\n",
      "success when loss: 4.360515117645264, pred: 3\n",
      "success when loss: 4.359897613525391, pred: 3\n",
      "success when loss: 4.359503269195557, pred: 3\n",
      "success when loss: 4.3588547706604, pred: 3\n",
      "success when loss: 4.358203411102295, pred: 3\n",
      "success when loss: 4.35754919052124, pred: 3\n",
      "success when loss: 4.356893062591553, pred: 3\n",
      "success when loss: 4.3555731773376465, pred: 3\n",
      "success when loss: 4.354910373687744, pred: 3\n",
      "success when loss: 4.353579044342041, pred: 3\n",
      "success when loss: 4.352910995483398, pred: 3\n",
      "success when loss: 4.352241516113281, pred: 3\n",
      "success when loss: 4.3515706062316895, pred: 3\n",
      "success when loss: 4.350898265838623, pred: 3\n",
      "success when loss: 4.35022497177124, pred: 3\n",
      "success when loss: 4.349550247192383, pred: 3\n",
      "success when loss: 4.348874568939209, pred: 3\n",
      "success when loss: 4.348197937011719, pred: 3\n",
      "success when loss: 4.347520351409912, pred: 3\n",
      "success when loss: 4.346841335296631, pred: 3\n",
      "success when loss: 4.346161842346191, pred: 3\n",
      "success when loss: 4.344118595123291, pred: 3\n",
      "success when loss: 4.342752456665039, pred: 3\n",
      "success when loss: 4.342068672180176, pred: 3\n",
      "success when loss: 4.340698719024658, pred: 3\n",
      "success when loss: 4.340012550354004, pred: 3\n",
      "success when loss: 4.339325904846191, pred: 3\n",
      "success when loss: 4.338638782501221, pred: 3\n",
      "success when loss: 4.337263107299805, pred: 3\n",
      "success when loss: 4.3358845710754395, pred: 3\n",
      "success when loss: 4.3351945877075195, pred: 3\n",
      "success when loss: 4.335139751434326, pred: 3\n",
      "success when loss: 4.334758281707764, pred: 3\n",
      "success when loss: 4.33434534072876, pred: 3\n",
      "success when loss: 4.3339033126831055, pred: 3\n",
      "success when loss: 4.333435535430908, pred: 3\n",
      "success when loss: 4.332943916320801, pred: 3\n",
      "success when loss: 4.332431793212891, pred: 3\n",
      "success when loss: 4.331900119781494, pred: 3\n",
      "success when loss: 4.330786228179932, pred: 3\n",
      "success when loss: 4.330207347869873, pred: 3\n",
      "success when loss: 4.329011917114258, pred: 3\n",
      "success when loss: 4.32839822769165, pred: 3\n",
      "success when loss: 4.327774524688721, pred: 3\n",
      "success when loss: 4.327142238616943, pred: 3\n",
      "success when loss: 4.326502323150635, pred: 3\n",
      "success when loss: 4.325854778289795, pred: 3\n",
      "Iters: [800/1000]\tLoss: 4.325201511383057,Loss1(L2 distance):4.325201511383057, Loss2:0.0\n",
      "success when loss: 4.3245415687561035, pred: 3\n",
      "success when loss: 4.323876857757568, pred: 3\n",
      "success when loss: 4.323206901550293, pred: 3\n",
      "success when loss: 4.322532653808594, pred: 3\n",
      "success when loss: 4.321854114532471, pred: 3\n",
      "success when loss: 4.321172714233398, pred: 3\n",
      "success when loss: 4.3204874992370605, pred: 3\n",
      "success when loss: 4.319107532501221, pred: 3\n",
      "success when loss: 4.318413734436035, pred: 3\n",
      "success when loss: 4.317019462585449, pred: 3\n",
      "success when loss: 4.316318988800049, pred: 3\n",
      "success when loss: 4.315617084503174, pred: 3\n",
      "success when loss: 4.314207553863525, pred: 3\n",
      "success when loss: 4.31350040435791, pred: 3\n",
      "success when loss: 4.3127923011779785, pred: 3\n",
      "success when loss: 4.312082290649414, pred: 3\n",
      "success when loss: 4.311371803283691, pred: 3\n",
      "success when loss: 4.310659408569336, pred: 3\n",
      "success when loss: 4.309946537017822, pred: 3\n",
      "success when loss: 4.309232234954834, pred: 3\n",
      "success when loss: 4.307801246643066, pred: 3\n",
      "success when loss: 4.307084083557129, pred: 3\n",
      "success when loss: 4.306366443634033, pred: 3\n",
      "success when loss: 4.305647850036621, pred: 3\n",
      "success when loss: 4.304928779602051, pred: 3\n",
      "success when loss: 4.304208755493164, pred: 3\n",
      "success when loss: 4.303488254547119, pred: 3\n",
      "success when loss: 4.302766799926758, pred: 3\n",
      "success when loss: 4.302044868469238, pred: 3\n",
      "success when loss: 4.301321983337402, pred: 3\n",
      "success when loss: 4.300598621368408, pred: 3\n",
      "success when loss: 4.299874782562256, pred: 3\n",
      "success when loss: 4.299150466918945, pred: 3\n",
      "success when loss: 4.297699451446533, pred: 3\n",
      "success when loss: 4.29697322845459, pred: 3\n",
      "success when loss: 4.2955193519592285, pred: 3\n",
      "success when loss: 4.294063091278076, pred: 3\n",
      "success when loss: 4.293334007263184, pred: 3\n",
      "success when loss: 4.292604446411133, pred: 3\n",
      "success when loss: 4.291874408721924, pred: 3\n",
      "success when loss: 4.291143894195557, pred: 3\n",
      "success when loss: 4.290412902832031, pred: 3\n",
      "success when loss: 4.289681434631348, pred: 3\n",
      "success when loss: 4.288217067718506, pred: 3\n",
      "success when loss: 4.287484169006348, pred: 3\n",
      "success when loss: 4.285282135009766, pred: 3\n",
      "success when loss: 4.284547328948975, pred: 3\n",
      "success when loss: 4.283812046051025, pred: 3\n",
      "success when loss: 4.283075332641602, pred: 3\n",
      "success when loss: 4.282339096069336, pred: 3\n",
      "success when loss: 4.281602382659912, pred: 3\n",
      "success when loss: 4.28086519241333, pred: 3\n",
      "success when loss: 4.279388904571533, pred: 3\n",
      "success when loss: 4.278649806976318, pred: 3\n",
      "success when loss: 4.2771711349487305, pred: 3\n",
      "success when loss: 4.276431083679199, pred: 3\n",
      "success when loss: 4.275690078735352, pred: 3\n",
      "success when loss: 4.274949073791504, pred: 3\n",
      "success when loss: 4.273465156555176, pred: 3\n",
      "success when loss: 4.272722244262695, pred: 3\n",
      "success when loss: 4.271979331970215, pred: 3\n",
      "success when loss: 4.271235942840576, pred: 3\n",
      "success when loss: 4.270491600036621, pred: 3\n",
      "success when loss: 4.269747257232666, pred: 3\n",
      "success when loss: 4.269002437591553, pred: 3\n",
      "success when loss: 4.268257141113281, pred: 3\n",
      "success when loss: 4.267510890960693, pred: 3\n",
      "success when loss: 4.2667646408081055, pred: 3\n",
      "success when loss: 4.265270233154297, pred: 3\n",
      "success when loss: 4.263774394989014, pred: 3\n",
      "success when loss: 4.263025283813477, pred: 3\n",
      "success when loss: 4.2622761726379395, pred: 3\n",
      "success when loss: 4.261526584625244, pred: 3\n",
      "success when loss: 4.260776519775391, pred: 3\n",
      "success when loss: 4.260025978088379, pred: 3\n",
      "success when loss: 4.259274482727051, pred: 3\n",
      "success when loss: 4.257771015167236, pred: 3\n",
      "success when loss: 4.257018566131592, pred: 3\n",
      "success when loss: 4.256265640258789, pred: 3\n",
      "success when loss: 4.254003524780273, pred: 3\n",
      "success when loss: 4.253248691558838, pred: 3\n",
      "success when loss: 4.252725601196289, pred: 3\n",
      "success when loss: 4.252410888671875, pred: 3\n",
      "success when loss: 4.252137184143066, pred: 3\n",
      "success when loss: 4.25181770324707, pred: 3\n",
      "success when loss: 4.2514567375183105, pred: 3\n",
      "success when loss: 4.2510576248168945, pred: 3\n",
      "success when loss: 4.2506232261657715, pred: 3\n",
      "success when loss: 4.250156879425049, pred: 3\n",
      "success when loss: 4.249660491943359, pred: 3\n",
      "success when loss: 4.249138355255127, pred: 3\n",
      "success when loss: 4.247432231903076, pred: 3\n",
      "success when loss: 4.246199131011963, pred: 3\n",
      "success when loss: 4.245559215545654, pred: 3\n",
      "success when loss: 4.244905948638916, pred: 3\n",
      "success when loss: 4.244239330291748, pred: 3\n",
      "success when loss: 4.243561744689941, pred: 3\n",
      "success when loss: 4.242873668670654, pred: 3\n",
      "success when loss: 4.242176055908203, pred: 3\n",
      "success when loss: 4.241469860076904, pred: 3\n",
      "success when loss: 4.240756511688232, pred: 3\n",
      "success when loss: 4.2400360107421875, pred: 3\n"
     ]
    },
    {
     "name": "stdout",
     "output_type": "stream",
     "text": [
      "success when loss: 4.239308834075928, pred: 3\n",
      "success when loss: 4.238575458526611, pred: 3\n",
      "success when loss: 4.237094402313232, pred: 3\n",
      "success when loss: 4.235595703125, pred: 3\n",
      "success when loss: 4.234840393066406, pred: 3\n",
      "success when loss: 4.234082221984863, pred: 3\n",
      "success when loss: 4.233320713043213, pred: 3\n",
      "success when loss: 4.2325568199157715, pred: 3\n",
      "success when loss: 4.231789588928223, pred: 3\n",
      "success when loss: 4.231020450592041, pred: 3\n",
      "success when loss: 4.227146148681641, pred: 3\n",
      "success when loss: 4.22636604309082, pred: 3\n",
      "success when loss: 4.225584983825684, pred: 3\n",
      "success when loss: 4.224802494049072, pred: 3\n",
      "success when loss: 4.223234176635742, pred: 3\n",
      "success when loss: 4.222448825836182, pred: 3\n",
      "success when loss: 4.221662521362305, pred: 3\n",
      "success when loss: 4.220874786376953, pred: 3\n",
      "success when loss: 4.220086097717285, pred: 3\n",
      "success when loss: 4.219296932220459, pred: 3\n",
      "success when loss: 4.218506813049316, pred: 3\n",
      "success when loss: 4.216924667358398, pred: 3\n",
      "success when loss: 4.215339660644531, pred: 3\n",
      "success when loss: 4.213752269744873, pred: 3\n",
      "Iters: [1000/1000]\tLoss: 4.220358371734619,Loss1(L2 distance):4.220358371734619, Loss2:0.0\n",
      "------------Start 5 search, current c is 5.5------------\n",
      "Iters: [200/1000]\tLoss: 37.11445617675781,Loss1(L2 distance):4.069742202758789, Loss2:33.04471206665039\n",
      "Iters: [400/1000]\tLoss: 4.410712718963623,Loss1(L2 distance):4.410712718963623, Loss2:0.0\n",
      "Iters: [600/1000]\tLoss: 4.269490718841553,Loss1(L2 distance):4.269490718841553, Loss2:0.0\n",
      "success when loss: 4.212979316711426, pred: 3\n",
      "success when loss: 4.211790084838867, pred: 3\n",
      "success when loss: 4.208377361297607, pred: 3\n",
      "success when loss: 4.207334995269775, pred: 3\n",
      "success when loss: 4.206280708312988, pred: 3\n",
      "success when loss: 4.205214023590088, pred: 3\n",
      "success when loss: 4.204135894775391, pred: 3\n",
      "success when loss: 4.200836658477783, pred: 3\n",
      "success when loss: 4.199717998504639, pred: 3\n",
      "success when loss: 4.1985907554626465, pred: 3\n",
      "success when loss: 4.192368984222412, pred: 3\n",
      "success when loss: 4.1919941902160645, pred: 3\n",
      "success when loss: 4.191539287567139, pred: 3\n",
      "success when loss: 4.19101095199585, pred: 3\n",
      "success when loss: 4.190415859222412, pred: 3\n",
      "success when loss: 4.189759731292725, pred: 3\n",
      "success when loss: 4.189048767089844, pred: 3\n",
      "success when loss: 4.188287734985352, pred: 3\n",
      "success when loss: 4.186634063720703, pred: 3\n",
      "success when loss: 4.185749053955078, pred: 3\n",
      "success when loss: 4.183880805969238, pred: 3\n",
      "success when loss: 4.182903289794922, pred: 3\n",
      "success when loss: 4.181900978088379, pred: 3\n",
      "success when loss: 4.179830551147461, pred: 3\n",
      "success when loss: 4.178766250610352, pred: 3\n",
      "success when loss: 4.177684783935547, pred: 3\n",
      "success when loss: 4.17658805847168, pred: 3\n",
      "success when loss: 4.175477504730225, pred: 3\n",
      "success when loss: 4.173220634460449, pred: 3\n",
      "success when loss: 4.172076225280762, pred: 3\n",
      "success when loss: 4.17092227935791, pred: 3\n",
      "success when loss: 4.169759750366211, pred: 3\n",
      "success when loss: 4.1685895919799805, pred: 3\n",
      "success when loss: 4.163846015930176, pred: 3\n",
      "success when loss: 4.162647247314453, pred: 3\n",
      "success when loss: 4.160236358642578, pred: 3\n",
      "success when loss: 4.157811164855957, pred: 3\n",
      "success when loss: 4.157244682312012, pred: 3\n",
      "success when loss: 4.156243801116943, pred: 3\n",
      "success when loss: 4.15562629699707, pred: 3\n",
      "success when loss: 4.154210090637207, pred: 3\n",
      "success when loss: 4.152589797973633, pred: 3\n",
      "success when loss: 4.150802135467529, pred: 3\n",
      "success when loss: 4.149855136871338, pred: 3\n",
      "success when loss: 4.1488776206970215, pred: 3\n",
      "success when loss: 4.146841049194336, pred: 3\n",
      "success when loss: 4.145786762237549, pred: 3\n",
      "success when loss: 4.144712448120117, pred: 3\n",
      "success when loss: 4.143619537353516, pred: 3\n",
      "success when loss: 4.13909387588501, pred: 3\n",
      "success when loss: 4.137931823730469, pred: 3\n",
      "success when loss: 4.136758804321289, pred: 3\n",
      "success when loss: 4.1355767250061035, pred: 3\n",
      "success when loss: 4.13438606262207, pred: 3\n",
      "success when loss: 4.133188247680664, pred: 3\n",
      "success when loss: 4.130772113800049, pred: 3\n",
      "success when loss: 4.129555702209473, pred: 3\n",
      "success when loss: 4.128334045410156, pred: 3\n",
      "success when loss: 4.125876426696777, pred: 3\n",
      "success when loss: 4.1246418952941895, pred: 3\n",
      "success when loss: 4.122162818908691, pred: 3\n",
      "success when loss: 4.119671821594238, pred: 3\n",
      "success when loss: 4.117171287536621, pred: 3\n",
      "success when loss: 4.115917682647705, pred: 3\n",
      "success when loss: 4.114661693572998, pred: 3\n",
      "success when loss: 4.113405227661133, pred: 3\n",
      "success when loss: 4.110886096954346, pred: 3\n",
      "success when loss: 4.10836124420166, pred: 3\n",
      "success when loss: 4.107097148895264, pred: 3\n",
      "success when loss: 4.105832099914551, pred: 3\n",
      "success when loss: 4.1045660972595215, pred: 3\n",
      "success when loss: 4.102030277252197, pred: 3\n",
      "success when loss: 4.0982208251953125, pred: 3\n",
      "Iters: [800/1000]\tLoss: 4.096949577331543,Loss1(L2 distance):4.096949577331543, Loss2:0.0\n",
      "success when loss: 4.095677852630615, pred: 3\n",
      "success when loss: 4.094405174255371, pred: 3\n",
      "success when loss: 4.091857433319092, pred: 3\n",
      "success when loss: 4.087256908416748, pred: 3\n",
      "success when loss: 4.086433410644531, pred: 3\n",
      "success when loss: 4.085565567016602, pred: 3\n",
      "success when loss: 4.084657669067383, pred: 3\n",
      "success when loss: 4.082736015319824, pred: 3\n",
      "success when loss: 4.079634666442871, pred: 3\n",
      "success when loss: 4.077450752258301, pred: 3\n",
      "success when loss: 4.076330661773682, pred: 3\n",
      "success when loss: 4.075193881988525, pred: 3\n",
      "success when loss: 4.074041843414307, pred: 3\n",
      "success when loss: 4.0728759765625, pred: 3\n",
      "success when loss: 4.071698188781738, pred: 3\n",
      "success when loss: 4.068100929260254, pred: 3\n",
      "success when loss: 4.0668840408325195, pred: 3\n",
      "success when loss: 4.065659999847412, pred: 3\n",
      "success when loss: 4.064428806304932, pred: 3\n",
      "success when loss: 4.060699939727783, pred: 3\n",
      "success when loss: 4.056929111480713, pred: 3\n",
      "success when loss: 4.055664539337158, pred: 3\n",
      "success when loss: 4.053126335144043, pred: 3\n",
      "success when loss: 4.051853179931641, pred: 3\n",
      "success when loss: 4.050577163696289, pred: 3\n",
      "success when loss: 4.049299240112305, pred: 3\n",
      "success when loss: 4.046737194061279, pred: 3\n",
      "success when loss: 4.044168949127197, pred: 3\n",
      "success when loss: 4.042881965637207, pred: 3\n",
      "success when loss: 4.041593551635742, pred: 3\n",
      "success when loss: 4.040927886962891, pred: 3\n",
      "success when loss: 4.039725303649902, pred: 3\n",
      "success when loss: 4.038510322570801, pred: 3\n",
      "success when loss: 4.034503936767578, pred: 3\n",
      "success when loss: 4.031499862670898, pred: 3\n",
      "success when loss: 4.030920028686523, pred: 3\n",
      "success when loss: 4.030235767364502, pred: 3\n",
      "success when loss: 4.029001235961914, pred: 3\n",
      "success when loss: 4.026491641998291, pred: 3\n",
      "success when loss: 4.025218963623047, pred: 3\n",
      "success when loss: 4.022644519805908, pred: 3\n",
      "success when loss: 4.021344184875488, pred: 3\n",
      "success when loss: 4.020036697387695, pred: 3\n",
      "success when loss: 4.014744281768799, pred: 3\n",
      "success when loss: 4.013408184051514, pred: 3\n",
      "success when loss: 4.012068748474121, pred: 3\n",
      "success when loss: 4.010725498199463, pred: 3\n",
      "success when loss: 4.009378910064697, pred: 3\n",
      "success when loss: 4.008029460906982, pred: 3\n",
      "success when loss: 4.00667667388916, pred: 3\n",
      "success when loss: 4.002606391906738, pred: 3\n",
      "success when loss: 4.001245498657227, pred: 3\n",
      "success when loss: 3.999882936477661, pred: 3\n",
      "success when loss: 3.998518943786621, pred: 3\n",
      "success when loss: 3.9971537590026855, pred: 3\n",
      "success when loss: 3.9957873821258545, pred: 3\n",
      "success when loss: 3.994419813156128, pred: 3\n",
      "success when loss: 3.9903111457824707, pred: 3\n",
      "success when loss: 3.9889400005340576, pred: 3\n",
      "success when loss: 3.9861958026885986, pred: 3\n",
      "success when loss: 3.9848225116729736, pred: 3\n",
      "success when loss: 3.9834489822387695, pred: 3\n",
      "success when loss: 3.982074737548828, pred: 3\n",
      "Iters: [1000/1000]\tLoss: 3.9858293533325195,Loss1(L2 distance):3.9858293533325195, Loss2:0.0\n",
      "------------Start 6 search, current c is 3.25------------\n",
      "Iters: [200/1000]\tLoss: 4.549627780914307,Loss1(L2 distance):4.0318498611450195, Loss2:0.5177779793739319\n",
      "Iters: [400/1000]\tLoss: 4.325562477111816,Loss1(L2 distance):4.325562477111816, Loss2:0.0\n"
     ]
    },
    {
     "name": "stdout",
     "output_type": "stream",
     "text": [
      "Iters: [600/1000]\tLoss: 4.131500244140625,Loss1(L2 distance):4.131500244140625, Loss2:0.0\n",
      "Iters: [800/1000]\tLoss: 5.177277088165283,Loss1(L2 distance):4.009936332702637, Loss2:1.1673407554626465\n",
      "Iters: [1000/1000]\tLoss: 5.0258469581604,Loss1(L2 distance):3.795623540878296, Loss2:1.2302234172821045\n",
      "------------Start 7 search, current c is 4.375------------\n",
      "Iters: [200/1000]\tLoss: 37.61029052734375,Loss1(L2 distance):4.017038822174072, Loss2:33.5932502746582\n",
      "Iters: [400/1000]\tLoss: 7.652139663696289,Loss1(L2 distance):4.403359413146973, Loss2:3.2487804889678955\n",
      "Iters: [600/1000]\tLoss: 4.495759010314941,Loss1(L2 distance):4.375761985778809, Loss2:0.11999711394309998\n",
      "Iters: [800/1000]\tLoss: 4.19511079788208,Loss1(L2 distance):4.19511079788208, Loss2:0.0\n",
      "Iters: [1000/1000]\tLoss: 3.9875810146331787,Loss1(L2 distance):3.9875810146331787, Loss2:0.0\n",
      "------------Start 8 search, current c is 4.9375------------\n",
      "Iters: [200/1000]\tLoss: 43.94343185424805,Loss1(L2 distance):3.9645609855651855, Loss2:39.9788703918457\n",
      "Iters: [400/1000]\tLoss: 4.467658042907715,Loss1(L2 distance):4.467658042907715, Loss2:0.0\n",
      "Iters: [600/1000]\tLoss: 4.287119388580322,Loss1(L2 distance):4.287119388580322, Loss2:0.0\n",
      "Iters: [800/1000]\tLoss: 4.131576061248779,Loss1(L2 distance):4.131576061248779, Loss2:0.0\n",
      "success when loss: 3.981796979904175, pred: 3\n",
      "success when loss: 3.980229139328003, pred: 3\n",
      "success when loss: 3.978660821914673, pred: 3\n",
      "success when loss: 3.975522041320801, pred: 3\n",
      "success when loss: 3.969238042831421, pred: 3\n",
      "success when loss: 3.967665672302246, pred: 3\n",
      "success when loss: 3.966092586517334, pred: 3\n",
      "success when loss: 3.9613707065582275, pred: 3\n",
      "success when loss: 3.9597954750061035, pred: 3\n",
      "success when loss: 3.9582197666168213, pred: 3\n",
      "success when loss: 3.956643581390381, pred: 3\n",
      "success when loss: 3.9550669193267822, pred: 3\n",
      "success when loss: 3.9519121646881104, pred: 3\n",
      "success when loss: 3.9487550258636475, pred: 3\n",
      "success when loss: 3.947175979614258, pred: 3\n",
      "success when loss: 3.9455959796905518, pred: 3\n",
      "success when loss: 3.9440155029296875, pred: 3\n",
      "Iters: [1000/1000]\tLoss: 3.9408533573150635,Loss1(L2 distance):3.9408533573150635, Loss2:0.0\n",
      "success when loss: 3.9408533573150635, pred: 3\n"
     ]
    }
   ],
   "source": [
    "victim_img=test_img\n",
    "victim_label=test_label\n",
    "print(\"Correct Label is \",victim_label)\n",
    "victim_img_input = torch.unsqueeze(victim_img, 0)\n",
    "attack_img = cwattack_l2(victim_img_input,target_model,victim_label,\n",
    "                         iteration=1000,lr=0.01,target=True,target_label=3)"
   ]
  },
  {
   "cell_type": "markdown",
   "metadata": {
    "ExecuteTime": {
     "end_time": "2020-08-16T14:49:19.871705Z",
     "start_time": "2020-08-16T14:49:19.835751Z"
    }
   },
   "source": [
    "## Attack Visualization"
   ]
  },
  {
   "cell_type": "code",
   "execution_count": 262,
   "metadata": {
    "ExecuteTime": {
     "end_time": "2020-08-16T15:37:42.037732Z",
     "start_time": "2020-08-16T15:37:42.027785Z"
    }
   },
   "outputs": [],
   "source": [
    "from tqdm import tqdm\n",
    "def show3(ori,adv):\n",
    "    plt.figure()\n",
    "    plt.subplot(131)\n",
    "    plt.title('Input Image')\n",
    "    img1 = transforms.ToPILImage()(ori).convert('RGB')\n",
    "    plt.imshow(img1)\n",
    "    plt.subplot(132)\n",
    "    plt.title('Adversarial Image')\n",
    "    img2 =torch.tensor(adv).cpu()\n",
    "    img2=torchvision.utils.make_grid(img2, normalize=True)\n",
    "    Pert=img2-ori\n",
    "    img2 = transforms.ToPILImage()(img2).convert('RGB')\n",
    "    Pert = transforms.ToPILImage()(Pert).convert('RGB')\n",
    "    plt.imshow(img2)\n",
    "    plt.subplot(133)\n",
    "    plt.title('Perturbation')\n",
    "    plt.imshow(Pert)\n",
    "    plt.show()\n"
   ]
  },
  {
   "cell_type": "markdown",
   "metadata": {},
   "source": [
    "### 97.2% will be predicted as 3"
   ]
  },
  {
   "cell_type": "code",
   "execution_count": 263,
   "metadata": {
    "ExecuteTime": {
     "end_time": "2020-08-16T15:37:48.773728Z",
     "start_time": "2020-08-16T15:37:43.137729Z"
    }
   },
   "outputs": [
    {
     "name": "stderr",
     "output_type": "stream",
     "text": [
      "F:\\anaconda3\\lib\\site-packages\\ipykernel_launcher.py:10: UserWarning: To copy construct from a tensor, it is recommended to use sourceTensor.clone().detach() or sourceTensor.clone().detach().requires_grad_(True), rather than torch.tensor(sourceTensor).\n",
      "  # Remove the CWD from sys.path while we load stuff.\n"
     ]
    },
    {
     "data": {
      "image/png": "[encoded data removed]",
      "text/plain": [
       "<Figure size 432x288 with 3 Axes>"
      ]
     },
     "metadata": {
      "needs_background": "light"
     },
     "output_type": "display_data"
    },
    {
     "name": "stderr",
     "output_type": "stream",
     "text": [
      "  2%|▏         | 41/2000 [00:00<00:04, 398.07it/s]"
     ]
    },
    {
     "name": "stdout",
     "output_type": "stream",
     "text": [
      "The pred result is  3\n"
     ]
    },
    {
     "name": "stderr",
     "output_type": "stream",
     "text": [
      "100%|██████████| 2000/2000 [00:05<00:00, 380.23it/s]"
     ]
    },
    {
     "name": "stdout",
     "output_type": "stream",
     "text": [
      "accuracy : 0.972\n"
     ]
    },
    {
     "name": "stderr",
     "output_type": "stream",
     "text": [
      "\n"
     ]
    }
   ],
   "source": [
    "show3(victim_img,attack_img)\n",
    "target_model.eval()\n",
    "output = target_model(attack_img)\n",
    "print(\"The pred result is \",output.argmax(1, keepdim=True).item())\n",
    "sum_accuracy=0\n",
    "\n",
    "for i in tqdm(range(2000)):\n",
    "    output = target_model(attack_img)\n",
    "    if(output.argmax(1, keepdim=True).item()==3):\n",
    "        sum_accuracy+=1\n",
    "print(\"accuracy :\",sum_accuracy*1.0/2000)"
   ]
  },
  {
   "cell_type": "markdown",
   "metadata": {},
   "source": [
    "## Untarget Attack"
   ]
  },
  {
   "cell_type": "code",
   "execution_count": 276,
   "metadata": {
    "ExecuteTime": {
     "end_time": "2020-08-16T15:50:59.206020Z",
     "start_time": "2020-08-16T15:48:32.508041Z"
    }
   },
   "outputs": [
    {
     "name": "stdout",
     "output_type": "stream",
     "text": [
      "Correct Label is  0\n",
      "------------Start 0 search, current c is 0.001------------\n",
      "Iters: [200/1000]\tLoss: 0.04036024957895279,Loss1(L2 distance):0.0014036953216418624, Loss2:0.03895655274391174\n",
      "Iters: [400/1000]\tLoss: 0.027587514370679855,Loss1(L2 distance):0.001254626433365047, Loss2:0.02633288875222206\n",
      "Iters: [600/1000]\tLoss: 0.05724082142114639,Loss1(L2 distance):0.0007231129566207528, Loss2:0.05651770904660225\n",
      "Iters: [800/1000]\tLoss: 0.02826828509569168,Loss1(L2 distance):0.0015493110986426473, Loss2:0.026718974113464355\n",
      "Iters: [1000/1000]\tLoss: 0.030747290700674057,Loss1(L2 distance):0.0021142633631825447, Loss2:0.028633028268814087\n",
      "------------Start 1 search, current c is 0.01------------\n",
      "Iters: [200/1000]\tLoss: 0.504010021686554,Loss1(L2 distance):0.0018962972098961473, Loss2:0.5021136999130249\n",
      "Iters: [400/1000]\tLoss: 0.3539573848247528,Loss1(L2 distance):0.0014158717822283506, Loss2:0.3525415062904358\n",
      "Iters: [600/1000]\tLoss: 0.47511130571365356,Loss1(L2 distance):0.0016923871589824557, Loss2:0.4734189212322235\n",
      "Iters: [800/1000]\tLoss: 0.36148953437805176,Loss1(L2 distance):0.00145446858368814, Loss2:0.3600350618362427\n",
      "Iters: [1000/1000]\tLoss: 0.5725549459457397,Loss1(L2 distance):0.0013848277740180492, Loss2:0.5711700916290283\n",
      "------------Start 2 search, current c is 0.1------------\n",
      "Iters: [200/1000]\tLoss: 1.4957592487335205,Loss1(L2 distance):1.4957592487335205, Loss2:0.0\n",
      "Iters: [400/1000]\tLoss: 1.5875838994979858,Loss1(L2 distance):1.5875838994979858, Loss2:0.0\n",
      "Iters: [600/1000]\tLoss: 2.07322096824646,Loss1(L2 distance):1.51055908203125, Loss2:0.5626619458198547\n",
      "Iters: [800/1000]\tLoss: 1.7247799634933472,Loss1(L2 distance):1.4650804996490479, Loss2:0.25969943404197693\n",
      "Iters: [1000/1000]\tLoss: 2.220470905303955,Loss1(L2 distance):1.4789668321609497, Loss2:0.7415041327476501\n",
      "------------Start 3 search, current c is 1.0------------\n",
      "Iters: [200/1000]\tLoss: 2.8127307891845703,Loss1(L2 distance):2.8127307891845703, Loss2:0.0\n",
      "success when loss: 2.7242696285247803, pred: 2\n",
      "Iters: [400/1000]\tLoss: 2.7178471088409424,Loss1(L2 distance):2.7178471088409424, Loss2:0.0\n",
      "success when loss: 2.6869680881500244, pred: 2\n",
      "success when loss: 2.6539766788482666, pred: 2\n",
      "success when loss: 2.6463229656219482, pred: 2\n",
      "success when loss: 2.6017181873321533, pred: 2\n",
      "success when loss: 2.547006130218506, pred: 2\n",
      "success when loss: 2.545743465423584, pred: 2\n",
      "success when loss: 2.4765069484710693, pred: 2\n",
      "success when loss: 2.4676458835601807, pred: 2\n",
      "success when loss: 2.456282138824463, pred: 2\n",
      "success when loss: 2.4447972774505615, pred: 3\n",
      "success when loss: 2.4390199184417725, pred: 2\n",
      "success when loss: 2.4274144172668457, pred: 2\n",
      "success when loss: 2.4215917587280273, pred: 2\n",
      "success when loss: 2.398226261138916, pred: 2\n",
      "Iters: [600/1000]\tLoss: 2.3748295307159424,Loss1(L2 distance):2.3748295307159424, Loss2:0.0\n",
      "success when loss: 2.3483121395111084, pred: 2\n",
      "success when loss: 2.3435351848602295, pred: 2\n",
      "success when loss: 2.2784485816955566, pred: 2\n",
      "success when loss: 2.268718957901001, pred: 2\n",
      "success when loss: 2.251321792602539, pred: 2\n",
      "success when loss: 2.2466986179351807, pred: 2\n",
      "success when loss: 2.227429151535034, pred: 2\n",
      "success when loss: 2.212381362915039, pred: 2\n",
      "success when loss: 2.2071352005004883, pred: 2\n",
      "success when loss: 2.202751636505127, pred: 2\n",
      "success when loss: 2.1795272827148438, pred: 2\n",
      "success when loss: 2.163522958755493, pred: 2\n",
      "Iters: [800/1000]\tLoss: 2.1915781497955322,Loss1(L2 distance):2.1915781497955322, Loss2:0.0\n",
      "success when loss: 2.1592018604278564, pred: 2\n",
      "success when loss: 2.15006947517395, pred: 2\n",
      "success when loss: 2.120985507965088, pred: 2\n",
      "success when loss: 2.1132707595825195, pred: 2\n",
      "success when loss: 2.110882520675659, pred: 2\n",
      "success when loss: 2.0838539600372314, pred: 2\n",
      "success when loss: 2.0418777465820312, pred: 2\n",
      "Iters: [1000/1000]\tLoss: 1.9658054113388062,Loss1(L2 distance):1.9658054113388062, Loss2:0.0\n",
      "------------Start 4 search, current c is 0.55------------\n",
      "Iters: [200/1000]\tLoss: 2.6855947971343994,Loss1(L2 distance):2.6855947971343994, Loss2:0.0\n",
      "Iters: [400/1000]\tLoss: 2.390562057495117,Loss1(L2 distance):2.390562057495117, Loss2:0.0\n",
      "Iters: [600/1000]\tLoss: 2.0461931228637695,Loss1(L2 distance):2.0461931228637695, Loss2:0.0\n",
      "success when loss: 1.9878466129302979, pred: 2\n",
      "success when loss: 1.8106718063354492, pred: 2\n",
      "Iters: [800/1000]\tLoss: 1.8244872093200684,Loss1(L2 distance):1.8244872093200684, Loss2:0.0\n",
      "Iters: [1000/1000]\tLoss: 2.9969491958618164,Loss1(L2 distance):1.7759380340576172, Loss2:1.2210111618041992\n",
      "------------Start 5 search, current c is 0.325------------\n",
      "Iters: [200/1000]\tLoss: 2.451145648956299,Loss1(L2 distance):2.451145648956299, Loss2:0.0\n",
      "Iters: [400/1000]\tLoss: 2.68766713142395,Loss1(L2 distance):2.203942060470581, Loss2:0.4837251603603363\n",
      "Iters: [600/1000]\tLoss: 1.8345086574554443,Loss1(L2 distance):1.8345086574554443, Loss2:0.0\n",
      "Iters: [800/1000]\tLoss: 1.6749109029769897,Loss1(L2 distance):1.6749109029769897, Loss2:0.0\n",
      "Iters: [1000/1000]\tLoss: 1.7769817113876343,Loss1(L2 distance):1.7769817113876343, Loss2:0.0\n",
      "------------Start 6 search, current c is 0.4375------------\n",
      "Iters: [200/1000]\tLoss: 2.5625298023223877,Loss1(L2 distance):2.5625298023223877, Loss2:0.0\n",
      "Iters: [400/1000]\tLoss: 2.2195661067962646,Loss1(L2 distance):2.2195661067962646, Loss2:0.0\n",
      "Iters: [600/1000]\tLoss: 1.983386516571045,Loss1(L2 distance):1.983386516571045, Loss2:0.0\n",
      "Iters: [800/1000]\tLoss: 1.8012505769729614,Loss1(L2 distance):1.8012505769729614, Loss2:0.0\n",
      "Iters: [1000/1000]\tLoss: 1.7823803424835205,Loss1(L2 distance):1.7823803424835205, Loss2:0.0\n",
      "------------Start 7 search, current c is 0.49375------------\n",
      "Iters: [200/1000]\tLoss: 3.4408721923828125,Loss1(L2 distance):2.4663586616516113, Loss2:0.9745134711265564\n",
      "Iters: [400/1000]\tLoss: 2.3073761463165283,Loss1(L2 distance):2.3073761463165283, Loss2:0.0\n",
      "Iters: [600/1000]\tLoss: 1.9433143138885498,Loss1(L2 distance):1.9433143138885498, Loss2:0.0\n",
      "Iters: [800/1000]\tLoss: 1.889819622039795,Loss1(L2 distance):1.889819622039795, Loss2:0.0\n",
      "Iters: [1000/1000]\tLoss: 1.7283785343170166,Loss1(L2 distance):1.7283785343170166, Loss2:0.0\n",
      "------------Start 8 search, current c is 0.5218750000000001------------\n",
      "Iters: [200/1000]\tLoss: 2.396122694015503,Loss1(L2 distance):2.396122694015503, Loss2:0.0\n",
      "Iters: [400/1000]\tLoss: 2.2273921966552734,Loss1(L2 distance):2.2273921966552734, Loss2:0.0\n",
      "Iters: [600/1000]\tLoss: 2.068239212036133,Loss1(L2 distance):2.068239212036133, Loss2:0.0\n",
      "Iters: [800/1000]\tLoss: 4.1385955810546875,Loss1(L2 distance):1.7520289421081543, Loss2:2.386566400527954\n",
      "Iters: [1000/1000]\tLoss: 1.772903323173523,Loss1(L2 distance):1.772903323173523, Loss2:0.0\n"
     ]
    }
   ],
   "source": [
    "victim_img2,victim_label2=test_data[5652]\n",
    "print(\"Correct Label is \",victim_label2)\n",
    "\n",
    "victim_img_input2 = torch.unsqueeze(victim_img2, 0)\n",
    "attack_untarget_img = cwattack_l2(victim_img_input2,target_model,victim_label2,\n",
    "                         iteration=1000,lr=0.01)"
   ]
  },
  {
   "cell_type": "markdown",
   "metadata": {},
   "source": [
    "### 无目标的随机攻击准确率相对较低（87%）可能来自于几个方面：\n",
    "#### 1. 有目标攻击时，模型将集中收敛在一个特定区域，无目标攻击当识别结果不准确即判定成功，存在一定误差\n",
    "#### 2. MNIST模型使用了dropout层，增强了原模型的鲁棒性\n",
    "#### 3. MNIST数据集使用的是28 * 28像素图片，数据量较小，换为物体识别例如ImageNet会更好\n",
    "#### 4. 测试训练环境为GTX 1650S，可以考虑提高迭代次数，降低学习率，提高判断成功的连续攻击次数"
   ]
  },
  {
   "cell_type": "code",
   "execution_count": 279,
   "metadata": {
    "ExecuteTime": {
     "end_time": "2020-08-16T15:53:03.099887Z",
     "start_time": "2020-08-16T15:52:57.407887Z"
    }
   },
   "outputs": [
    {
     "name": "stderr",
     "output_type": "stream",
     "text": [
      "F:\\anaconda3\\lib\\site-packages\\ipykernel_launcher.py:10: UserWarning: To copy construct from a tensor, it is recommended to use sourceTensor.clone().detach() or sourceTensor.clone().detach().requires_grad_(True), rather than torch.tensor(sourceTensor).\n",
      "  # Remove the CWD from sys.path while we load stuff.\n"
     ]
    },
    {
     "data": {
      "image/png": "[encoded data removed]",
      "text/plain": [
       "<Figure size 432x288 with 3 Axes>"
      ]
     },
     "metadata": {
      "needs_background": "light"
     },
     "output_type": "display_data"
    },
    {
     "name": "stderr",
     "output_type": "stream",
     "text": [
      "  2%|▏         | 39/2000 [00:00<00:05, 390.00it/s]"
     ]
    },
    {
     "name": "stdout",
     "output_type": "stream",
     "text": [
      "The pred result is  2\n"
     ]
    },
    {
     "name": "stderr",
     "output_type": "stream",
     "text": [
      "100%|██████████| 2000/2000 [00:05<00:00, 376.72it/s]"
     ]
    },
    {
     "name": "stdout",
     "output_type": "stream",
     "text": [
      "accuracy : 0.8685\n"
     ]
    },
    {
     "name": "stderr",
     "output_type": "stream",
     "text": [
      "\n"
     ]
    }
   ],
   "source": [
    "\n",
    "show3(victim_img2,attack_untarget_img)\n",
    "target_model.eval()\n",
    "output = target_model(attack_untarget_img)\n",
    "print(\"The pred result is \",output.argmax(1, keepdim=True).item())\n",
    "sum_accuracy=0\n",
    "\n",
    "for i in tqdm(range(2000)):\n",
    "    output = target_model(attack_untarget_img)\n",
    "    if(output.argmax(1, keepdim=True).item()!=0):\n",
    "        sum_accuracy+=1\n",
    "print(\"accuracy :\",sum_accuracy*1.0/2000)\n"
   ]
  },
  {
   "cell_type": "code",
   "execution_count": null,
   "metadata": {
    "ExecuteTime": {
     "end_time": "2020-08-16T14:48:30.437109Z",
     "start_time": "2020-08-16T14:48:30.427109Z"
    }
   },
   "outputs": [],
   "source": []
  },
  {
   "cell_type": "code",
   "execution_count": null,
   "metadata": {},
   "outputs": [],
   "source": []
  },
  {
   "cell_type": "code",
   "execution_count": null,
   "metadata": {
    "ExecuteTime": {
     "end_time": "2020-08-16T04:59:27.933569Z",
     "start_time": "2020-08-16T04:59:19.577506Z"
    }
   },
   "outputs": [],
   "source": []
  },
  {
   "cell_type": "code",
   "execution_count": null,
   "metadata": {
    "ExecuteTime": {
     "end_time": "2020-08-16T06:35:02.734375Z",
     "start_time": "2020-08-16T06:34:47.064437Z"
    }
   },
   "outputs": [],
   "source": []
  },
  {
   "cell_type": "code",
   "execution_count": null,
   "metadata": {
    "ExecuteTime": {
     "end_time": "2020-08-16T05:39:30.348397Z",
     "start_time": "2020-08-16T05:39:30.189444Z"
    }
   },
   "outputs": [],
   "source": []
  },
  {
   "cell_type": "code",
   "execution_count": null,
   "metadata": {
    "ExecuteTime": {
     "end_time": "2020-08-16T12:22:09.380492Z",
     "start_time": "2020-08-16T12:22:09.376492Z"
    }
   },
   "outputs": [],
   "source": []
  },
  {
   "cell_type": "code",
   "execution_count": null,
   "metadata": {
    "ExecuteTime": {
     "end_time": "2020-08-16T12:21:58.840337Z",
     "start_time": "2020-08-16T12:21:58.826212Z"
    }
   },
   "outputs": [],
   "source": []
  },
  {
   "cell_type": "code",
   "execution_count": null,
   "metadata": {},
   "outputs": [],
   "source": []
  }
 ],
 "metadata": {
  "kernelspec": {
   "display_name": "Python 3",
   "language": "python",
   "name": "python3"
  },
  "language_info": {
   "codemirror_mode": {
    "name": "ipython",
    "version": 3
   },
   "file_extension": ".py",
   "mimetype": "text/x-python",
   "name": "python",
   "nbconvert_exporter": "python",
   "pygments_lexer": "ipython3",
   "version": "3.7.6"
  },
  "varInspector": {
   "cols": {
    "lenName": 16,
    "lenType": 16,
    "lenVar": 40
   },
   "kernels_config": {
    "python": {
     "delete_cmd_postfix": "",
     "delete_cmd_prefix": "del ",
     "library": "var_list.py",
     "varRefreshCmd": "print(var_dic_list())"
    },
    "r": {
     "delete_cmd_postfix": ") ",
     "delete_cmd_prefix": "rm(",
     "library": "var_list.r",
     "varRefreshCmd": "cat(var_dic_list()) "
    }
   },
   "types_to_exclude": [
    "module",
    "function",
    "builtin_function_or_method",
    "instance",
    "_Feature"
   ],
   "window_display": false
  }
 },
 "nbformat": 4,
 "nbformat_minor": 4
}
